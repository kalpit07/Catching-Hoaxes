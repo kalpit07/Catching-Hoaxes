{
 "cells": [
  {
   "cell_type": "code",
   "execution_count": 1,
   "metadata": {},
   "outputs": [],
   "source": [
    "# Importing required libraries\n",
    "\n",
    "import pandas as pd\n",
    "import numpy as np"
   ]
  },
  {
   "cell_type": "code",
   "execution_count": 2,
   "metadata": {},
   "outputs": [],
   "source": [
    "# Loading data (df, train_data, test_data, labels_train, labels_test)\n",
    "\n",
    "import pickle\n",
    "\n",
    "df = pickle.load(open('pklFiles/df.pkl', 'rb'))\n",
    "train_data = pickle.load(open('pklFiles/train_data.pkl', 'rb'))\n",
    "test_data = pickle.load(open('pklFiles/test_data.pkl', 'rb'))\n",
    "train_labels = pickle.load(open('pklFiles/train_labels.pkl', 'rb'))\n",
    "test_labels = pickle.load(open('pklFiles/test_labels.pkl', 'rb'))"
   ]
  },
  {
   "cell_type": "code",
   "execution_count": 3,
   "metadata": {},
   "outputs": [],
   "source": [
    "# Defining variables for num_words, maxlen, output_dim\n",
    "\n",
    "MAX_SEQUENCE_LENGTH = 500\n",
    "MAX_WORDS = 35000\n",
    "EMBEDDING_DIM = 200"
   ]
  },
  {
   "cell_type": "code",
   "execution_count": 4,
   "metadata": {},
   "outputs": [],
   "source": [
    "# Required libraries\n",
    "\n",
    "from tensorflow.keras.models import Sequential\n",
    "from tensorflow.keras.layers import Dense, Embedding, SimpleRNN"
   ]
  },
  {
   "cell_type": "code",
   "execution_count": 5,
   "metadata": {},
   "outputs": [],
   "source": [
    "# RNN model\n",
    "\n",
    "rnn_model = Sequential()\n",
    "\n",
    "rnn_model.add(Embedding(input_dim=MAX_WORDS,\n",
    "                        output_dim=EMBEDDING_DIM, \n",
    "                        input_length=MAX_SEQUENCE_LENGTH))\n",
    "\n",
    "rnn_model.add(SimpleRNN(units=2, input_shape=(None, 1)))\n",
    "\n",
    "rnn_model.add(Dense(units=2, activation='softmax'))\n",
    "\n",
    "rnn_model.compile(loss='binary_crossentropy',\n",
    "                 optimizer='adam',\n",
    "                 metrics=['accuracy'])"
   ]
  },
  {
   "cell_type": "code",
   "execution_count": 6,
   "metadata": {},
   "outputs": [
    {
     "name": "stdout",
     "output_type": "stream",
     "text": [
      "Epoch 1/5\n",
      "519/519 [==============================] - 160s 308ms/step - loss: 0.4003 - accuracy: 0.8639 - val_loss: 0.3147 - val_accuracy: 0.8895\n",
      "Epoch 2/5\n",
      "519/519 [==============================] - 160s 308ms/step - loss: 0.2141 - accuracy: 0.9285 - val_loss: 0.3339 - val_accuracy: 0.8618\n",
      "Epoch 3/5\n",
      "519/519 [==============================] - 158s 305ms/step - loss: 0.1220 - accuracy: 0.9675 - val_loss: 0.3516 - val_accuracy: 0.8572\n",
      "Epoch 4/5\n",
      "519/519 [==============================] - 158s 305ms/step - loss: 0.0701 - accuracy: 0.9836 - val_loss: 0.3868 - val_accuracy: 0.8452\n",
      "Epoch 5/5\n",
      "519/519 [==============================] - 157s 303ms/step - loss: 0.0418 - accuracy: 0.9919 - val_loss: 0.3929 - val_accuracy: 0.8507\n"
     ]
    },
    {
     "data": {
      "text/plain": [
       "<tensorflow.python.keras.callbacks.History at 0x26bcee33850>"
      ]
     },
     "execution_count": 6,
     "metadata": {},
     "output_type": "execute_result"
    }
   ],
   "source": [
    "# Training RNN model\n",
    "\n",
    "rnn_model.fit(train_data, train_labels, \n",
    "              batch_size=32, \n",
    "              epochs=5, \n",
    "              validation_data=(test_data, test_labels))"
   ]
  },
  {
   "cell_type": "code",
   "execution_count": 7,
   "metadata": {},
   "outputs": [
    {
     "name": "stdout",
     "output_type": "stream",
     "text": [
      "[[1. 0.]\n",
      " [1. 0.]\n",
      " [0. 1.]\n",
      " ...\n",
      " [0. 1.]\n",
      " [0. 1.]\n",
      " [1. 0.]]\n"
     ]
    }
   ],
   "source": [
    "# Prediction\n",
    "\n",
    "predicted_labels = rnn_model.predict(test_data)\n",
    "print(predicted_labels.round())"
   ]
  },
  {
   "cell_type": "markdown",
   "metadata": {},
   "source": [
    "## Model evaluation"
   ]
  },
  {
   "cell_type": "code",
   "execution_count": 8,
   "metadata": {},
   "outputs": [],
   "source": [
    "# Required Libraries\n",
    "\n",
    "from sklearn.metrics import precision_recall_fscore_support, classification_report"
   ]
  },
  {
   "cell_type": "code",
   "execution_count": 9,
   "metadata": {},
   "outputs": [
    {
     "name": "stdout",
     "output_type": "stream",
     "text": [
      "Precision : [0.8445     0.85647933]\n",
      "Recall    : [0.84534535 0.85568445]\n",
      "F-score   : [0.84492246 0.85608171]\n",
      "Support   : [1998 2155]\n"
     ]
    }
   ],
   "source": [
    "# Precision, Recall, F-score, Support\n",
    "\n",
    "precision, recall, fscore, support = precision_recall_fscore_support(test_labels, predicted_labels.round())\n",
    "\n",
    "print('Precision : {}'.format(precision))\n",
    "print('Recall    : {}'.format(recall))\n",
    "print('F-score   : {}'.format(fscore))\n",
    "print('Support   : {}'.format(support))"
   ]
  },
  {
   "cell_type": "code",
   "execution_count": 10,
   "metadata": {},
   "outputs": [
    {
     "name": "stdout",
     "output_type": "stream",
     "text": [
      "              precision    recall  f1-score   support\n",
      "\n",
      "           0       0.84      0.85      0.84      1998\n",
      "           1       0.86      0.86      0.86      2155\n",
      "\n",
      "   micro avg       0.85      0.85      0.85      4153\n",
      "   macro avg       0.85      0.85      0.85      4153\n",
      "weighted avg       0.85      0.85      0.85      4153\n",
      " samples avg       0.85      0.85      0.85      4153\n",
      "\n"
     ]
    }
   ],
   "source": [
    "# Classification report\n",
    "\n",
    "print(classification_report(test_labels, predicted_labels.round()))"
   ]
  },
  {
   "cell_type": "markdown",
   "metadata": {},
   "source": [
    "## Saving RNN model"
   ]
  },
  {
   "cell_type": "code",
   "execution_count": 11,
   "metadata": {},
   "outputs": [],
   "source": [
    "rnn_model.save(\"Trained Models/rnn_model.h5\")"
   ]
  },
  {
   "cell_type": "markdown",
   "metadata": {},
   "source": [
    "## Testing on user input"
   ]
  },
  {
   "cell_type": "code",
   "execution_count": 12,
   "metadata": {},
   "outputs": [],
   "source": [
    "# User input\n",
    "\n",
    "title = \"This security flaw puts millions of computers at risk for a serious (but unlikely) hack\"\n",
    "author = \"Clare Duffy\"\n",
    "text = \"New York (CNN Business)A new report from a Dutch security researcher details a hacking mechanism that targets a common feature on millions of computers: the Thunderbolt port. Bjorn Ruytenberg, a researcher at Eindhoven University in the Netherlands, identified a security flaw in the Thunderbolt port that could allow a hacker to break into a computer and access all of its data in a matter of minutes, even if the computer's owner has taken security precautions. If your computer has such a port, an attacker who gets brief physical access to it can read and copy all your data, even if your drive is encrypted and your computer is locked or set to sleep, Ruytenberg said in the report. He dubbed the hacking technique Thunderspy. Thunderspy is stealth, meaning that you cannot find any traces of the attack, he said. The attack also does not require any engagement on the part of the computer's user, unlike other types of attacks such as phishing. Developed by Intel (INTC) in 2011, the Thunderbolt port enables fast data transfers. It is present on many PC and Apple laptops and — increasingly — some desktops. Although Intel recently developed a tool to address security concerns with the port, it isn't available on computers manufactured before 2019. Ruytenberg demonstrated the attack, which took just about five minutes, in a YouTube video published along with the report. For its part, Intel says that if users take normal security precautions and don't leave their computers somewhere a hacker could access them for even a few minutes — even if they have encrypted drives — they shouldn't be too worried about this type of hack. While the Thunderspy attack is technically possible on many computers with a Thunderbolt port, it requires that the hacker gains physical access to the computer for several minutes — enough time to unscrew the back panel of a laptop, plug in a device to the Thunderbolt and override security features, reattach the back of the laptop and then access the computer's data. Most people likely do not have valuable enough data on their computers for a hacker to want to carry out such a targeted attack. Even beyond Thunderspy, security experts have long warned of risks that could come from letting a hacker gain physical access to a computer. A group of security researchers last year identified several vulnerabilities related to Thunderbolt ports. In response, Intel created a tool called Kernel Direct Memory Access (DMA) to mitigate such attacks, which was implemented into major operating systems from Windows, Linux and Mac in 2019, Jerry Bryant, Intel's director of communications for product assurance and security, said in a blog post Sunday. The underlying vulnerability identified by Ruytenberg's Thunderspy technique is the same as those addressed by that mitigation tool, Byrant said in the post. The company added that Ruytenberg did not demonstrate successful attacks against machines with the DMA tool enabled.\""
   ]
  },
  {
   "cell_type": "markdown",
   "metadata": {},
   "source": [
    "The above news article has been taken from [CNN Business News](https://edition.cnn.com/2020/05/12/tech/intel-thunderbolt-security-vulnerability/index.html)."
   ]
  },
  {
   "cell_type": "code",
   "execution_count": 13,
   "metadata": {},
   "outputs": [],
   "source": [
    "# Function to predict news type \n",
    "\n",
    "def predict_news_rnn(title, author, text):\n",
    "    # Lower case\n",
    "    total_info = title + ' ' + author + ' ' + text\n",
    "    total_info = total_info.lower()\n",
    "    \n",
    "    # Removing punctuations\n",
    "    def Punctuation(string):\n",
    "        punctuations = '''!()-[]{};:'\"\\,<>./?@#$%^&*_~'''\n",
    "        for x in string.lower():\n",
    "            if x in punctuations:\n",
    "                string = string.replace(x, \"\")\n",
    "        \n",
    "        return string\n",
    "    \n",
    "    total_info = Punctuation(total_info)\n",
    "    \n",
    "    # Eliminating extra spaces\n",
    "    total_info = total_info.replace('   ', ' ')\n",
    "    total_info = total_info.replace('  ', ' ')\n",
    "    \n",
    "    # Removing stopwords\n",
    "    from nltk.corpus import stopwords\n",
    "    from nltk.tokenize import word_tokenize\n",
    "    \n",
    "    stop_words = set(stopwords.words('english')) \n",
    "    word_tokens = word_tokenize(total_info) \n",
    "    filtered_sentence = [w for w in word_tokens if not w in stop_words]\n",
    "    total_info = ''\n",
    "    for word in filtered_sentence:\n",
    "        total_info += word + ' '\n",
    "        \n",
    "    total_info = total_info.rstrip()\n",
    "    \n",
    "    # Loading tokenizer\n",
    "    tokenizer = pickle.load(open('pklFiles/tokenizer.pkl', 'rb'))\n",
    "    \n",
    "    # Defining variables for maxlen\n",
    "    MAX_SEQUENCE_LENGTH = 500\n",
    "    \n",
    "    test_sequence = tokenizer.texts_to_sequences([total_info])\n",
    "    \n",
    "    from tensorflow.keras.preprocessing.sequence import pad_sequences\n",
    "    test_data = pad_sequences(test_sequence, maxlen=MAX_SEQUENCE_LENGTH)\n",
    "    \n",
    "    # Loading RNN model\n",
    "    from tensorflow.keras.models import load_model\n",
    "    rnn_model = load_model('Trained Models/rnn_model.h5')\n",
    "    \n",
    "    # Prediction\n",
    "    predicted_label = rnn_model.predict(test_data)\n",
    "    \n",
    "    # Result\n",
    "    if int(predicted_label.round()[0][0]) == 1:\n",
    "        print(\"News is 'Reliable'.\")\n",
    "    else:\n",
    "        print(\"News is 'Unreliable'.\")"
   ]
  },
  {
   "cell_type": "code",
   "execution_count": 14,
   "metadata": {},
   "outputs": [
    {
     "name": "stdout",
     "output_type": "stream",
     "text": [
      "News is 'Reliable'.\n"
     ]
    }
   ],
   "source": [
    "predict_news_rnn(title, author, text)"
   ]
  }
 ],
 "metadata": {
  "kernelspec": {
   "display_name": "Python 3",
   "language": "python",
   "name": "python3"
  },
  "language_info": {
   "codemirror_mode": {
    "name": "ipython",
    "version": 3
   },
   "file_extension": ".py",
   "mimetype": "text/x-python",
   "name": "python",
   "nbconvert_exporter": "python",
   "pygments_lexer": "ipython3",
   "version": "3.8.1"
  }
 },
 "nbformat": 4,
 "nbformat_minor": 4
}
